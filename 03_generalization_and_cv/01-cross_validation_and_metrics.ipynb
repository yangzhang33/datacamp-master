{
 "cells": [
  {
   "cell_type": "markdown",
   "metadata": {},
   "source": [
    "# Evaluate your machine-learning model"
   ]
  },
  {
   "cell_type": "markdown",
   "metadata": {},
   "source": [
    "A core question in machine learning is how to evaluate such model once we created it. In this notebook, we aim at presenting how you should answer this question in a statistically sound way. We will first present the benefit of using cross-validation and have a quick look at the different strategies as well as the metrics that should be used in supervised learning."
   ]
  },
  {
   "cell_type": "code",
   "execution_count": 39,
   "metadata": {},
   "outputs": [],
   "source": [
    "%matplotlib inline\n",
    "import matplotlib.pyplot as plt\n",
    "import numpy as np\n",
    "import pandas as pd\n",
    "import seaborn as sns"
   ]
  },
  {
   "cell_type": "markdown",
   "metadata": {},
   "source": [
    "## Benefit of cross-validation"
   ]
  },
  {
   "cell_type": "markdown",
   "metadata": {},
   "source": [
    "### Load our dataset"
   ]
  },
  {
   "cell_type": "markdown",
   "metadata": {},
   "source": [
    "To illustrate our discussion, we will use the California housing dataset. This dataset is a regression problem in which we want to estimate the median housing value given housing information."
   ]
  },
  {
   "cell_type": "code",
   "execution_count": 40,
   "metadata": {},
   "outputs": [],
   "source": [
    "from sklearn.datasets import fetch_california_housing\n",
    "\n",
    "X, y = fetch_california_housing(return_X_y=True, as_frame=True)\n",
    "y *= 100"
   ]
  },
  {
   "cell_type": "code",
   "execution_count": 41,
   "metadata": {},
   "outputs": [
    {
     "data": {
      "text/html": [
       "<div>\n",
       "<style scoped>\n",
       "    .dataframe tbody tr th:only-of-type {\n",
       "        vertical-align: middle;\n",
       "    }\n",
       "\n",
       "    .dataframe tbody tr th {\n",
       "        vertical-align: top;\n",
       "    }\n",
       "\n",
       "    .dataframe thead th {\n",
       "        text-align: right;\n",
       "    }\n",
       "</style>\n",
       "<table border=\"1\" class=\"dataframe\">\n",
       "  <thead>\n",
       "    <tr style=\"text-align: right;\">\n",
       "      <th></th>\n",
       "      <th>MedInc</th>\n",
       "      <th>HouseAge</th>\n",
       "      <th>AveRooms</th>\n",
       "      <th>AveBedrms</th>\n",
       "      <th>Population</th>\n",
       "      <th>AveOccup</th>\n",
       "      <th>Latitude</th>\n",
       "      <th>Longitude</th>\n",
       "    </tr>\n",
       "  </thead>\n",
       "  <tbody>\n",
       "    <tr>\n",
       "      <th>0</th>\n",
       "      <td>8.3252</td>\n",
       "      <td>41.0</td>\n",
       "      <td>6.984127</td>\n",
       "      <td>1.023810</td>\n",
       "      <td>322.0</td>\n",
       "      <td>2.555556</td>\n",
       "      <td>37.88</td>\n",
       "      <td>-122.23</td>\n",
       "    </tr>\n",
       "    <tr>\n",
       "      <th>1</th>\n",
       "      <td>8.3014</td>\n",
       "      <td>21.0</td>\n",
       "      <td>6.238137</td>\n",
       "      <td>0.971880</td>\n",
       "      <td>2401.0</td>\n",
       "      <td>2.109842</td>\n",
       "      <td>37.86</td>\n",
       "      <td>-122.22</td>\n",
       "    </tr>\n",
       "    <tr>\n",
       "      <th>2</th>\n",
       "      <td>7.2574</td>\n",
       "      <td>52.0</td>\n",
       "      <td>8.288136</td>\n",
       "      <td>1.073446</td>\n",
       "      <td>496.0</td>\n",
       "      <td>2.802260</td>\n",
       "      <td>37.85</td>\n",
       "      <td>-122.24</td>\n",
       "    </tr>\n",
       "    <tr>\n",
       "      <th>3</th>\n",
       "      <td>5.6431</td>\n",
       "      <td>52.0</td>\n",
       "      <td>5.817352</td>\n",
       "      <td>1.073059</td>\n",
       "      <td>558.0</td>\n",
       "      <td>2.547945</td>\n",
       "      <td>37.85</td>\n",
       "      <td>-122.25</td>\n",
       "    </tr>\n",
       "    <tr>\n",
       "      <th>4</th>\n",
       "      <td>3.8462</td>\n",
       "      <td>52.0</td>\n",
       "      <td>6.281853</td>\n",
       "      <td>1.081081</td>\n",
       "      <td>565.0</td>\n",
       "      <td>2.181467</td>\n",
       "      <td>37.85</td>\n",
       "      <td>-122.25</td>\n",
       "    </tr>\n",
       "  </tbody>\n",
       "</table>\n",
       "</div>"
      ],
      "text/plain": [
       "   MedInc  HouseAge  AveRooms  AveBedrms  Population  AveOccup  Latitude  \\\n",
       "0  8.3252      41.0  6.984127   1.023810       322.0  2.555556     37.88   \n",
       "1  8.3014      21.0  6.238137   0.971880      2401.0  2.109842     37.86   \n",
       "2  7.2574      52.0  8.288136   1.073446       496.0  2.802260     37.85   \n",
       "3  5.6431      52.0  5.817352   1.073059       558.0  2.547945     37.85   \n",
       "4  3.8462      52.0  6.281853   1.081081       565.0  2.181467     37.85   \n",
       "\n",
       "   Longitude  \n",
       "0    -122.23  \n",
       "1    -122.22  \n",
       "2    -122.24  \n",
       "3    -122.25  \n",
       "4    -122.25  "
      ]
     },
     "execution_count": 41,
     "metadata": {},
     "output_type": "execute_result"
    }
   ],
   "source": [
    "X.head()"
   ]
  },
  {
   "cell_type": "code",
   "execution_count": 42,
   "metadata": {},
   "outputs": [
    {
     "data": {
      "text/plain": [
       "0    452.6\n",
       "1    358.5\n",
       "2    352.1\n",
       "3    341.3\n",
       "4    342.2\n",
       "Name: MedHouseVal, dtype: float64"
      ]
     },
     "execution_count": 42,
     "metadata": {},
     "output_type": "execute_result"
    }
   ],
   "source": [
    "y.head()"
   ]
  },
  {
   "cell_type": "markdown",
   "metadata": {},
   "source": [
    "### Emperical error vs. generalization error"
   ]
  },
  {
   "cell_type": "markdown",
   "metadata": {},
   "source": [
    "Let's start by creating a regressor which will be a decision tree."
   ]
  },
  {
   "cell_type": "code",
   "execution_count": 43,
   "metadata": {},
   "outputs": [],
   "source": [
    "from sklearn.tree import DecisionTreeRegressor\n",
    "\n",
    "regressor = DecisionTreeRegressor()"
   ]
  },
  {
   "cell_type": "markdown",
   "metadata": {},
   "source": [
    "Let's first train our regressor on the full dataset."
   ]
  },
  {
   "cell_type": "code",
   "execution_count": 44,
   "metadata": {},
   "outputs": [
    {
     "data": {
      "text/plain": [
       "DecisionTreeRegressor()"
      ]
     },
     "execution_count": 44,
     "metadata": {},
     "output_type": "execute_result"
    }
   ],
   "source": [
    "regressor.fit(X, y)"
   ]
  },
  {
   "cell_type": "markdown",
   "metadata": {},
   "source": [
    "Now that our regressor is trained, we can check the regressor performance. For this purpose, we will use the mean absolute error which will give us an error in the native unit of the target, i.e. k$."
   ]
  },
  {
   "cell_type": "code",
   "execution_count": 45,
   "metadata": {},
   "outputs": [
    {
     "name": "stdout",
     "output_type": "stream",
     "text": [
      "In average, our regressor make an error of 0.00 k$\n"
     ]
    }
   ],
   "source": [
    "from sklearn.metrics import mean_absolute_error\n",
    "\n",
    "y_pred = regressor.predict(X)\n",
    "score = mean_absolute_error(y_pred, y)\n",
    "print(f\"In average, our regressor make an error of {score:.2f} k$\")"
   ]
  },
  {
   "cell_type": "code",
   "execution_count": 46,
   "metadata": {},
   "outputs": [
    {
     "name": "stdout",
     "output_type": "stream",
     "text": [
      "In average, our regressor make an error of 53.12 k$\n"
     ]
    }
   ],
   "source": [
    "from sklearn.linear_model import Ridge\n",
    "\n",
    "reg = Ridge()\n",
    "reg.fit(X, y)\n",
    "y_pred = reg.predict(X)\n",
    "score = mean_absolute_error(y_pred, y)\n",
    "print(f\"In average, our regressor make an error of {score:.2f} k$\")\n",
    "# linear model can't learn by heart"
   ]
  },
  {
   "cell_type": "markdown",
   "metadata": {},
   "source": [
    "<div class=\"alert alert-success\">\n",
    "    <b>QUESTION</b>:\n",
    "     <ul>\n",
    "     <li>Are you surprised to get such performance with this regressor?</li>\n",
    "     <li>Do you expect this regressor to perform this way in production?</li>\n",
    "     </ul>\n",
    "</div>"
   ]
  },
  {
   "cell_type": "markdown",
   "metadata": {},
   "source": [
    "Surprisingly or not, our regressor is perfect. However, we are currently not able to confirm if our model would work on future unseen data. We can simulate this stage by splitting out our dataset into two datasets and keep a dataset out of the learning process."
   ]
  },
  {
   "cell_type": "code",
   "execution_count": 47,
   "metadata": {},
   "outputs": [],
   "source": [
    "from sklearn.model_selection import train_test_split\n",
    "\n",
    "X_train, X_test, y_train, y_test = train_test_split(\n",
    "    X, y, random_state=0\n",
    ")"
   ]
  },
  {
   "cell_type": "code",
   "execution_count": 48,
   "metadata": {},
   "outputs": [
    {
     "data": {
      "text/plain": [
       "DecisionTreeRegressor()"
      ]
     },
     "execution_count": 48,
     "metadata": {},
     "output_type": "execute_result"
    }
   ],
   "source": [
    "regressor.fit(X_train, y_train)"
   ]
  },
  {
   "cell_type": "code",
   "execution_count": 49,
   "metadata": {},
   "outputs": [
    {
     "name": "stdout",
     "output_type": "stream",
     "text": [
      "In average, our regressor make an error of 0.00 k$\n"
     ]
    }
   ],
   "source": [
    "y_pred = regressor.predict(X_train)\n",
    "score = mean_absolute_error(y_pred, y_train)\n",
    "print(f\"In average, our regressor make an error of {score:.2f} k$\")"
   ]
  },
  {
   "cell_type": "markdown",
   "metadata": {},
   "source": [
    "When evaluating our regressor on the training data, we still get a perfect model. This error is called the **emperical error**. Let see, if we get as lucky on the left-out dataset."
   ]
  },
  {
   "cell_type": "code",
   "execution_count": 50,
   "metadata": {},
   "outputs": [
    {
     "name": "stdout",
     "output_type": "stream",
     "text": [
      "In average, our regressor make an error of 47.01 k$\n"
     ]
    }
   ],
   "source": [
    "y_pred = regressor.predict(X_test)\n",
    "score = mean_absolute_error(y_pred, y_test)\n",
    "print(f\"In average, our regressor make an error of {score:.2f} k$\")"
   ]
  },
  {
   "attachments": {},
   "cell_type": "markdown",
   "metadata": {},
   "source": [
    "Remark: MSE has the natural unit"
   ]
  },
  {
   "cell_type": "markdown",
   "metadata": {},
   "source": [
    "... and not. By evaluating our model on a left-out set, we are checking that our model will be able to work on unseen data and thus if it is able to generalize. This type of error computed is called **generalization error**. This error is the one that any data scientist hopes to decrease when creating a model."
   ]
  },
  {
   "cell_type": "markdown",
   "metadata": {},
   "source": [
    "<div class=\"alert alert-success\">\n",
    "    <b>QUESTION</b>:\n",
    "     <ul>\n",
    "     <li>Are we sure that our algorithm is robust?</li>\n",
    "     </ul>\n",
    "</div>"
   ]
  },
  {
   "cell_type": "markdown",
   "metadata": {},
   "source": [
    "<div class=\"alert alert-info\">\n",
    "    <h3>Generalization error:</h3>\n",
    "     The aim of model training is to select the model $f$ out of a class of models $\\mathcal F$ that minimizes a measure of the risk. The risk is measured with a loss $l$ between the true value $y$ associated to $x$ and the prediction $f(x)$ and thus we want to find:  \n",
    "        $$\n",
    "        f^\\star = \\arg\\min_{f \\in \\mathcal F}\\mathbb E_{(x, y) \\sim \\pi}[l(f(x), y]\n",
    "        $$  \n",
    "    The issue is that we cannot compute the expectation $\\mathbb E_{(x, y) \\sim \\pi}$ because we don't know the input distribution $\\pi$. Therefor, we approximate it with a set of examples $\\{(x_1, y_1), \\dots (x_N, y_N)\\}$ drawn <i>i.i.d.</i> from $\\pi$ and use the <b>Empirical Risk Minimization</b> (ERM):\n",
    "        $$\n",
    "        \\widehat{f} = \\arg\\min_{f \\in \\mathcal F}\\frac1N\\sum_{i=1}^Nl(f(x_i), y_i]\n",
    "        $$\n",
    "    If the samples are drawn independently, we know that the error has a variance of $\\mathcal O\\left(\\frac{1}{\\sqrt{N}}\\right)$. Thus there is a gap between the minimizer of the risk and the minimizer of the empirical risk. If we optimize too much for the ERM, the gap might be big and the selected model will have bad performance on unseen data. This is what is called <b>over-fitting</b>. To control, this, one need to have a measure of the risk independent from the measure of the risk which is used to select the model: the Empircal Risk on the test set!\n",
    "</div>\n"
   ]
  },
  {
   "cell_type": "markdown",
   "metadata": {},
   "source": [
    "### A single error is not enough, what about the variance?"
   ]
  },
  {
   "cell_type": "markdown",
   "metadata": {},
   "source": [
    "While we were able to estimate the generalization error, we are indeed unable to know anything about the variance of our model and thus if it is robust our not. This is where the framework of cross-validation is used. Indeed, we can repeat our experiment and compute several time our generalization error and get intuition about the stability of our model."
   ]
  },
  {
   "cell_type": "markdown",
   "metadata": {},
   "source": [
    "The simpler way that we can think about is to shuffle our data and split into two sets has we previously did and repeat several time our experiment. In scikit-learn, using the function `cross_validate` with the cross-validation `ShuffleSplit` allows us to make such evaluation."
   ]
  },
  {
   "cell_type": "code",
   "execution_count": 51,
   "metadata": {},
   "outputs": [
    {
     "name": "stdout",
     "output_type": "stream",
     "text": [
      "CPU times: total: 15.6 ms\n",
      "Wall time: 6.42 s\n"
     ]
    },
    {
     "data": {
      "text/plain": [
       "{'fit_time': array([0.13197494, 0.12799597, 0.12700009, 0.12799883, 0.13696957,\n",
       "        0.13896608, 0.14900136, 0.15001011, 0.15643358, 0.14437532,\n",
       "        0.12696862, 0.12799144, 0.13202262, 0.12903523, 0.12961602,\n",
       "        0.12860298, 0.1320219 , 0.12902427, 0.14600134, 0.14303541,\n",
       "        0.13698649, 0.13700628, 0.14796925, 0.14899421, 0.13300228,\n",
       "        0.13398838, 0.13997078, 0.13396263, 0.14399624, 0.14162397]),\n",
       " 'score_time': array([0.00203466, 0.00299287, 0.00301051, 0.0019927 , 0.00299931,\n",
       "        0.00200248, 0.00301361, 0.00300193, 0.00299454, 0.00300002,\n",
       "        0.00300813, 0.00404954, 0.00200582, 0.00297523, 0.00198412,\n",
       "        0.00298309, 0.00197625, 0.00297546, 0.00301409, 0.00299263,\n",
       "        0.00301528, 0.00199127, 0.00303745, 0.00300407, 0.00200772,\n",
       "        0.00199771, 0.00301409, 0.00301409, 0.00199008, 0.00199008]),\n",
       " 'test_score': array([-45.47005136, -45.9023188 , -45.55401623, -47.06646657,\n",
       "        -44.89788542, -45.11265988, -45.95510514, -44.72794889,\n",
       "        -46.48482825, -45.85401284, -46.53003222, -47.22957122,\n",
       "        -45.15641231, -45.0834983 , -46.79364486, -45.5013251 ,\n",
       "        -46.98303682, -47.00457776, -46.21855015, -46.96982582,\n",
       "        -45.12722069, -46.43538639, -44.52045979, -45.85539729,\n",
       "        -46.3972328 , -44.93569864, -44.40939075, -45.43492175,\n",
       "        -46.07784884, -46.87862912])}"
      ]
     },
     "execution_count": 51,
     "metadata": {},
     "output_type": "execute_result"
    }
   ],
   "source": [
    "%%time\n",
    "from sklearn.model_selection import cross_validate\n",
    "from sklearn.model_selection import ShuffleSplit\n",
    "\n",
    "cv = ShuffleSplit(n_splits=30, test_size=0.2, random_state=42)\n",
    "\n",
    "result_cv = cross_validate(\n",
    "    regressor, X, y, cv=cv, scoring=\"neg_mean_absolute_error\", #score the higher the better\n",
    "    n_jobs=2 #for paralelle compute\n",
    ")\n",
    "result_cv"
   ]
  },
  {
   "cell_type": "markdown",
   "metadata": {},
   "source": [
    "Once our cross-validation is done, we see that we got a Python dictionary with information regarding the cross-validation. Let's use a pandas dataframe to easily explore the content of the results."
   ]
  },
  {
   "cell_type": "code",
   "execution_count": 52,
   "metadata": {},
   "outputs": [
    {
     "data": {
      "text/html": [
       "<div>\n",
       "<style scoped>\n",
       "    .dataframe tbody tr th:only-of-type {\n",
       "        vertical-align: middle;\n",
       "    }\n",
       "\n",
       "    .dataframe tbody tr th {\n",
       "        vertical-align: top;\n",
       "    }\n",
       "\n",
       "    .dataframe thead th {\n",
       "        text-align: right;\n",
       "    }\n",
       "</style>\n",
       "<table border=\"1\" class=\"dataframe\">\n",
       "  <thead>\n",
       "    <tr style=\"text-align: right;\">\n",
       "      <th></th>\n",
       "      <th>fit_time</th>\n",
       "      <th>score_time</th>\n",
       "      <th>test_score</th>\n",
       "    </tr>\n",
       "  </thead>\n",
       "  <tbody>\n",
       "    <tr>\n",
       "      <th>0</th>\n",
       "      <td>0.131975</td>\n",
       "      <td>0.002035</td>\n",
       "      <td>-45.470051</td>\n",
       "    </tr>\n",
       "    <tr>\n",
       "      <th>1</th>\n",
       "      <td>0.127996</td>\n",
       "      <td>0.002993</td>\n",
       "      <td>-45.902319</td>\n",
       "    </tr>\n",
       "    <tr>\n",
       "      <th>2</th>\n",
       "      <td>0.127000</td>\n",
       "      <td>0.003011</td>\n",
       "      <td>-45.554016</td>\n",
       "    </tr>\n",
       "    <tr>\n",
       "      <th>3</th>\n",
       "      <td>0.127999</td>\n",
       "      <td>0.001993</td>\n",
       "      <td>-47.066467</td>\n",
       "    </tr>\n",
       "    <tr>\n",
       "      <th>4</th>\n",
       "      <td>0.136970</td>\n",
       "      <td>0.002999</td>\n",
       "      <td>-44.897885</td>\n",
       "    </tr>\n",
       "    <tr>\n",
       "      <th>5</th>\n",
       "      <td>0.138966</td>\n",
       "      <td>0.002002</td>\n",
       "      <td>-45.112660</td>\n",
       "    </tr>\n",
       "    <tr>\n",
       "      <th>6</th>\n",
       "      <td>0.149001</td>\n",
       "      <td>0.003014</td>\n",
       "      <td>-45.955105</td>\n",
       "    </tr>\n",
       "    <tr>\n",
       "      <th>7</th>\n",
       "      <td>0.150010</td>\n",
       "      <td>0.003002</td>\n",
       "      <td>-44.727949</td>\n",
       "    </tr>\n",
       "    <tr>\n",
       "      <th>8</th>\n",
       "      <td>0.156434</td>\n",
       "      <td>0.002995</td>\n",
       "      <td>-46.484828</td>\n",
       "    </tr>\n",
       "    <tr>\n",
       "      <th>9</th>\n",
       "      <td>0.144375</td>\n",
       "      <td>0.003000</td>\n",
       "      <td>-45.854013</td>\n",
       "    </tr>\n",
       "    <tr>\n",
       "      <th>10</th>\n",
       "      <td>0.126969</td>\n",
       "      <td>0.003008</td>\n",
       "      <td>-46.530032</td>\n",
       "    </tr>\n",
       "    <tr>\n",
       "      <th>11</th>\n",
       "      <td>0.127991</td>\n",
       "      <td>0.004050</td>\n",
       "      <td>-47.229571</td>\n",
       "    </tr>\n",
       "    <tr>\n",
       "      <th>12</th>\n",
       "      <td>0.132023</td>\n",
       "      <td>0.002006</td>\n",
       "      <td>-45.156412</td>\n",
       "    </tr>\n",
       "    <tr>\n",
       "      <th>13</th>\n",
       "      <td>0.129035</td>\n",
       "      <td>0.002975</td>\n",
       "      <td>-45.083498</td>\n",
       "    </tr>\n",
       "    <tr>\n",
       "      <th>14</th>\n",
       "      <td>0.129616</td>\n",
       "      <td>0.001984</td>\n",
       "      <td>-46.793645</td>\n",
       "    </tr>\n",
       "    <tr>\n",
       "      <th>15</th>\n",
       "      <td>0.128603</td>\n",
       "      <td>0.002983</td>\n",
       "      <td>-45.501325</td>\n",
       "    </tr>\n",
       "    <tr>\n",
       "      <th>16</th>\n",
       "      <td>0.132022</td>\n",
       "      <td>0.001976</td>\n",
       "      <td>-46.983037</td>\n",
       "    </tr>\n",
       "    <tr>\n",
       "      <th>17</th>\n",
       "      <td>0.129024</td>\n",
       "      <td>0.002975</td>\n",
       "      <td>-47.004578</td>\n",
       "    </tr>\n",
       "    <tr>\n",
       "      <th>18</th>\n",
       "      <td>0.146001</td>\n",
       "      <td>0.003014</td>\n",
       "      <td>-46.218550</td>\n",
       "    </tr>\n",
       "    <tr>\n",
       "      <th>19</th>\n",
       "      <td>0.143035</td>\n",
       "      <td>0.002993</td>\n",
       "      <td>-46.969826</td>\n",
       "    </tr>\n",
       "    <tr>\n",
       "      <th>20</th>\n",
       "      <td>0.136986</td>\n",
       "      <td>0.003015</td>\n",
       "      <td>-45.127221</td>\n",
       "    </tr>\n",
       "    <tr>\n",
       "      <th>21</th>\n",
       "      <td>0.137006</td>\n",
       "      <td>0.001991</td>\n",
       "      <td>-46.435386</td>\n",
       "    </tr>\n",
       "    <tr>\n",
       "      <th>22</th>\n",
       "      <td>0.147969</td>\n",
       "      <td>0.003037</td>\n",
       "      <td>-44.520460</td>\n",
       "    </tr>\n",
       "    <tr>\n",
       "      <th>23</th>\n",
       "      <td>0.148994</td>\n",
       "      <td>0.003004</td>\n",
       "      <td>-45.855397</td>\n",
       "    </tr>\n",
       "    <tr>\n",
       "      <th>24</th>\n",
       "      <td>0.133002</td>\n",
       "      <td>0.002008</td>\n",
       "      <td>-46.397233</td>\n",
       "    </tr>\n",
       "    <tr>\n",
       "      <th>25</th>\n",
       "      <td>0.133988</td>\n",
       "      <td>0.001998</td>\n",
       "      <td>-44.935699</td>\n",
       "    </tr>\n",
       "    <tr>\n",
       "      <th>26</th>\n",
       "      <td>0.139971</td>\n",
       "      <td>0.003014</td>\n",
       "      <td>-44.409391</td>\n",
       "    </tr>\n",
       "    <tr>\n",
       "      <th>27</th>\n",
       "      <td>0.133963</td>\n",
       "      <td>0.003014</td>\n",
       "      <td>-45.434922</td>\n",
       "    </tr>\n",
       "    <tr>\n",
       "      <th>28</th>\n",
       "      <td>0.143996</td>\n",
       "      <td>0.001990</td>\n",
       "      <td>-46.077849</td>\n",
       "    </tr>\n",
       "    <tr>\n",
       "      <th>29</th>\n",
       "      <td>0.141624</td>\n",
       "      <td>0.001990</td>\n",
       "      <td>-46.878629</td>\n",
       "    </tr>\n",
       "  </tbody>\n",
       "</table>\n",
       "</div>"
      ],
      "text/plain": [
       "    fit_time  score_time  test_score\n",
       "0   0.131975    0.002035  -45.470051\n",
       "1   0.127996    0.002993  -45.902319\n",
       "2   0.127000    0.003011  -45.554016\n",
       "3   0.127999    0.001993  -47.066467\n",
       "4   0.136970    0.002999  -44.897885\n",
       "5   0.138966    0.002002  -45.112660\n",
       "6   0.149001    0.003014  -45.955105\n",
       "7   0.150010    0.003002  -44.727949\n",
       "8   0.156434    0.002995  -46.484828\n",
       "9   0.144375    0.003000  -45.854013\n",
       "10  0.126969    0.003008  -46.530032\n",
       "11  0.127991    0.004050  -47.229571\n",
       "12  0.132023    0.002006  -45.156412\n",
       "13  0.129035    0.002975  -45.083498\n",
       "14  0.129616    0.001984  -46.793645\n",
       "15  0.128603    0.002983  -45.501325\n",
       "16  0.132022    0.001976  -46.983037\n",
       "17  0.129024    0.002975  -47.004578\n",
       "18  0.146001    0.003014  -46.218550\n",
       "19  0.143035    0.002993  -46.969826\n",
       "20  0.136986    0.003015  -45.127221\n",
       "21  0.137006    0.001991  -46.435386\n",
       "22  0.147969    0.003037  -44.520460\n",
       "23  0.148994    0.003004  -45.855397\n",
       "24  0.133002    0.002008  -46.397233\n",
       "25  0.133988    0.001998  -44.935699\n",
       "26  0.139971    0.003014  -44.409391\n",
       "27  0.133963    0.003014  -45.434922\n",
       "28  0.143996    0.001990  -46.077849\n",
       "29  0.141624    0.001990  -46.878629"
      ]
     },
     "execution_count": 52,
     "metadata": {},
     "output_type": "execute_result"
    }
   ],
   "source": [
    "result_cv = pd.DataFrame(result_cv)\n",
    "result_cv # for all the splits"
   ]
  },
  {
   "cell_type": "markdown",
   "metadata": {},
   "source": [
    "We got information about the training and testing time which we can discard for the moment. However, we see that we got the `test_score` which is our generalization scores. We have 30 numbers because we repeated 30 times the same experiment by shuffling the data. Now, we can plot the distribution of these results."
   ]
  },
  {
   "cell_type": "code",
   "execution_count": 53,
   "metadata": {},
   "outputs": [
    {
     "data": {
      "image/png": "[encoded data removed]",
      "text/plain": [
       "<Figure size 360x360 with 1 Axes>"
      ]
     },
     "metadata": {
      "needs_background": "light"
     },
     "output_type": "display_data"
    }
   ],
   "source": [
    "sns.displot(-result_cv[\"test_score\"], kde=True, bins=20)\n",
    "_ = plt.xlabel(\"Mean absolute error (k$)\")"
   ]
  },
  {
   "cell_type": "code",
   "execution_count": 54,
   "metadata": {},
   "outputs": [
    {
     "data": {
      "text/plain": [
       "0.8382768038906164"
      ]
     },
     "execution_count": 54,
     "metadata": {},
     "output_type": "execute_result"
    }
   ],
   "source": [
    "(-result_cv[\"test_score\"]).std() \n",
    "# in the real senario, the 30 datas are independent, the std will be much higher"
   ]
  },
  {
   "cell_type": "markdown",
   "metadata": {},
   "source": [
    "We can observe that the generalization error is centered around 45.5 k\\\\$ and range from 44 k\\\\$ to 47 k\\\\$."
   ]
  },
  {
   "cell_type": "markdown",
   "metadata": {},
   "source": [
    "<div class=\"alert alert-success\">\n",
    "    <b>EXERCISE</b>:\n",
    "     <ul>\n",
    "     <li>Can we conclude anything about the performance of our regressor?</li>\n",
    "     <li>Can we conclude anything about our cross-validation analysis?</li>\n",
    "     </ul>\n",
    "    <b>Hint: </b>Plot the distribution of the target.\n",
    "</div>"
   ]
  },
  {
   "cell_type": "markdown",
   "metadata": {},
   "source": [
    "To be able to know if we can use our cross-validation results, we should put them into perspective with the problem that we try to solve. To know more about this, we can check the distribution of the original target (which we should have done beforehand)."
   ]
  },
  {
   "cell_type": "code",
   "execution_count": 55,
   "metadata": {},
   "outputs": [
    {
     "data": {
      "image/png": "[encoded data removed]",
      "text/plain": [
       "<Figure size 360x360 with 1 Axes>"
      ]
     },
     "metadata": {
      "needs_background": "light"
     },
     "output_type": "display_data"
    }
   ],
   "source": [
    "# %load solutions/solution_1.py\n",
    "sns.displot(y, kde=True, bins=20)\n",
    "_ = plt.xlabel(\"Median Housing Value ($)\")"
   ]
  },
  {
   "cell_type": "markdown",
   "metadata": {},
   "source": [
    "We see that the median value range from 50 k\\\\$ up to 500 k\\\\$. Thus an error range of 3 k\\\\$ means that our cross-validation results can be trusted and do not suffer from an execessive variance. Regarding the performance of our model itself, we can see that making an error of 45 k\\\\$ would be problematic even more if this happen for housing with low value. However, we also see some limitation regarding the metric that we are using. Making an error of 45 k\\\\$ for a target at 50 k\\\\$ and at 500 k\\\\$ should not have the same impact. We should instead use the mean absolute percentage error which will give a relative error."
   ]
  },
  {
   "attachments": {},
   "cell_type": "markdown",
   "metadata": {},
   "source": [
    "<div class=\"alert alert-success\">\n",
    "    <b>EXERCISE</b>:\n",
    "     <ul>\n",
    "     <li>Check the distribution of the training errors similarly to what we did for the generalization errors.</li>\n",
    "     <li>What can you conclude?</li>\n",
    "     </ul>\n",
    "</div>\n",
    "\n",
    "* use t-test"
   ]
  },
  {
   "cell_type": "markdown",
   "metadata": {},
   "source": [
    "What about the emperical error?"
   ]
  },
  {
   "cell_type": "code",
   "execution_count": 56,
   "metadata": {},
   "outputs": [],
   "source": [
    "# %load solutions/solution_2.py\n",
    "result_cv = pd.DataFrame(\n",
    "    cross_validate(\n",
    "        regressor, X, y, cv=cv, scoring=\"neg_mean_absolute_error\",\n",
    "        return_train_score=True\n",
    "    )\n",
    ")"
   ]
  },
  {
   "cell_type": "code",
   "execution_count": 57,
   "metadata": {},
   "outputs": [
    {
     "data": {
      "text/html": [
       "<div>\n",
       "<style scoped>\n",
       "    .dataframe tbody tr th:only-of-type {\n",
       "        vertical-align: middle;\n",
       "    }\n",
       "\n",
       "    .dataframe tbody tr th {\n",
       "        vertical-align: top;\n",
       "    }\n",
       "\n",
       "    .dataframe thead th {\n",
       "        text-align: right;\n",
       "    }\n",
       "</style>\n",
       "<table border=\"1\" class=\"dataframe\">\n",
       "  <thead>\n",
       "    <tr style=\"text-align: right;\">\n",
       "      <th></th>\n",
       "      <th>fit_time</th>\n",
       "      <th>score_time</th>\n",
       "      <th>test_score</th>\n",
       "      <th>train_score</th>\n",
       "    </tr>\n",
       "  </thead>\n",
       "  <tbody>\n",
       "    <tr>\n",
       "      <th>0</th>\n",
       "      <td>0.118009</td>\n",
       "      <td>0.001994</td>\n",
       "      <td>-45.642190</td>\n",
       "      <td>-3.817790e-15</td>\n",
       "    </tr>\n",
       "    <tr>\n",
       "      <th>1</th>\n",
       "      <td>0.113970</td>\n",
       "      <td>0.004004</td>\n",
       "      <td>-45.481626</td>\n",
       "      <td>-1.336054e-14</td>\n",
       "    </tr>\n",
       "    <tr>\n",
       "      <th>2</th>\n",
       "      <td>0.118652</td>\n",
       "      <td>0.002011</td>\n",
       "      <td>-45.861914</td>\n",
       "      <td>-3.266982e-15</td>\n",
       "    </tr>\n",
       "    <tr>\n",
       "      <th>3</th>\n",
       "      <td>0.114997</td>\n",
       "      <td>0.002988</td>\n",
       "      <td>-47.185119</td>\n",
       "      <td>-1.340874e-14</td>\n",
       "    </tr>\n",
       "    <tr>\n",
       "      <th>4</th>\n",
       "      <td>0.119059</td>\n",
       "      <td>0.002948</td>\n",
       "      <td>-44.868792</td>\n",
       "      <td>-3.501075e-15</td>\n",
       "    </tr>\n",
       "    <tr>\n",
       "      <th>5</th>\n",
       "      <td>0.116867</td>\n",
       "      <td>0.001004</td>\n",
       "      <td>-45.147568</td>\n",
       "      <td>-1.257220e-14</td>\n",
       "    </tr>\n",
       "    <tr>\n",
       "      <th>6</th>\n",
       "      <td>0.114041</td>\n",
       "      <td>0.001952</td>\n",
       "      <td>-46.288295</td>\n",
       "      <td>-1.521264e-14</td>\n",
       "    </tr>\n",
       "    <tr>\n",
       "      <th>7</th>\n",
       "      <td>0.135083</td>\n",
       "      <td>0.002550</td>\n",
       "      <td>-45.172328</td>\n",
       "      <td>-1.151534e-14</td>\n",
       "    </tr>\n",
       "    <tr>\n",
       "      <th>8</th>\n",
       "      <td>0.138049</td>\n",
       "      <td>0.001985</td>\n",
       "      <td>-46.786405</td>\n",
       "      <td>-6.781827e-15</td>\n",
       "    </tr>\n",
       "    <tr>\n",
       "      <th>9</th>\n",
       "      <td>0.114999</td>\n",
       "      <td>0.002002</td>\n",
       "      <td>-45.928819</td>\n",
       "      <td>-1.288203e-14</td>\n",
       "    </tr>\n",
       "    <tr>\n",
       "      <th>10</th>\n",
       "      <td>0.115998</td>\n",
       "      <td>0.002002</td>\n",
       "      <td>-46.397327</td>\n",
       "      <td>-3.125837e-15</td>\n",
       "    </tr>\n",
       "    <tr>\n",
       "      <th>11</th>\n",
       "      <td>0.118999</td>\n",
       "      <td>0.002002</td>\n",
       "      <td>-46.886086</td>\n",
       "      <td>-3.377144e-15</td>\n",
       "    </tr>\n",
       "    <tr>\n",
       "      <th>12</th>\n",
       "      <td>0.115998</td>\n",
       "      <td>0.002025</td>\n",
       "      <td>-45.630374</td>\n",
       "      <td>-1.159107e-14</td>\n",
       "    </tr>\n",
       "    <tr>\n",
       "      <th>13</th>\n",
       "      <td>0.117999</td>\n",
       "      <td>0.002002</td>\n",
       "      <td>-44.347424</td>\n",
       "      <td>-3.590582e-15</td>\n",
       "    </tr>\n",
       "    <tr>\n",
       "      <th>14</th>\n",
       "      <td>0.115927</td>\n",
       "      <td>0.002006</td>\n",
       "      <td>-46.601493</td>\n",
       "      <td>-1.499231e-14</td>\n",
       "    </tr>\n",
       "    <tr>\n",
       "      <th>15</th>\n",
       "      <td>0.114003</td>\n",
       "      <td>0.001997</td>\n",
       "      <td>-45.700112</td>\n",
       "      <td>-1.515756e-14</td>\n",
       "    </tr>\n",
       "    <tr>\n",
       "      <th>16</th>\n",
       "      <td>0.120999</td>\n",
       "      <td>0.003000</td>\n",
       "      <td>-46.602367</td>\n",
       "      <td>-1.112289e-14</td>\n",
       "    </tr>\n",
       "    <tr>\n",
       "      <th>17</th>\n",
       "      <td>0.143294</td>\n",
       "      <td>0.003001</td>\n",
       "      <td>-46.915529</td>\n",
       "      <td>-3.291080e-15</td>\n",
       "    </tr>\n",
       "    <tr>\n",
       "      <th>18</th>\n",
       "      <td>0.117994</td>\n",
       "      <td>0.000997</td>\n",
       "      <td>-46.064070</td>\n",
       "      <td>-1.584607e-14</td>\n",
       "    </tr>\n",
       "    <tr>\n",
       "      <th>19</th>\n",
       "      <td>0.113993</td>\n",
       "      <td>0.000999</td>\n",
       "      <td>-46.671981</td>\n",
       "      <td>-1.512313e-14</td>\n",
       "    </tr>\n",
       "    <tr>\n",
       "      <th>20</th>\n",
       "      <td>0.114985</td>\n",
       "      <td>0.002996</td>\n",
       "      <td>-45.164022</td>\n",
       "      <td>-1.416266e-14</td>\n",
       "    </tr>\n",
       "    <tr>\n",
       "      <th>21</th>\n",
       "      <td>0.115995</td>\n",
       "      <td>0.003007</td>\n",
       "      <td>-46.500286</td>\n",
       "      <td>-1.367382e-14</td>\n",
       "    </tr>\n",
       "    <tr>\n",
       "      <th>22</th>\n",
       "      <td>0.115979</td>\n",
       "      <td>0.002002</td>\n",
       "      <td>-44.395437</td>\n",
       "      <td>-6.410032e-15</td>\n",
       "    </tr>\n",
       "    <tr>\n",
       "      <th>23</th>\n",
       "      <td>0.110538</td>\n",
       "      <td>0.002446</td>\n",
       "      <td>-46.176961</td>\n",
       "      <td>-9.914550e-15</td>\n",
       "    </tr>\n",
       "    <tr>\n",
       "      <th>24</th>\n",
       "      <td>0.113019</td>\n",
       "      <td>0.003002</td>\n",
       "      <td>-46.731901</td>\n",
       "      <td>-3.576812e-15</td>\n",
       "    </tr>\n",
       "    <tr>\n",
       "      <th>25</th>\n",
       "      <td>0.114997</td>\n",
       "      <td>0.002005</td>\n",
       "      <td>-45.110336</td>\n",
       "      <td>-3.504518e-15</td>\n",
       "    </tr>\n",
       "    <tr>\n",
       "      <th>26</th>\n",
       "      <td>0.143975</td>\n",
       "      <td>0.002023</td>\n",
       "      <td>-45.101131</td>\n",
       "      <td>-3.310874e-15</td>\n",
       "    </tr>\n",
       "    <tr>\n",
       "      <th>27</th>\n",
       "      <td>0.131002</td>\n",
       "      <td>0.002016</td>\n",
       "      <td>-45.971212</td>\n",
       "      <td>-3.714514e-15</td>\n",
       "    </tr>\n",
       "    <tr>\n",
       "      <th>28</th>\n",
       "      <td>0.114013</td>\n",
       "      <td>0.001992</td>\n",
       "      <td>-46.649510</td>\n",
       "      <td>-3.349603e-15</td>\n",
       "    </tr>\n",
       "    <tr>\n",
       "      <th>29</th>\n",
       "      <td>0.116001</td>\n",
       "      <td>0.001997</td>\n",
       "      <td>-46.712493</td>\n",
       "      <td>-3.439109e-15</td>\n",
       "    </tr>\n",
       "  </tbody>\n",
       "</table>\n",
       "</div>"
      ],
      "text/plain": [
       "    fit_time  score_time  test_score   train_score\n",
       "0   0.118009    0.001994  -45.642190 -3.817790e-15\n",
       "1   0.113970    0.004004  -45.481626 -1.336054e-14\n",
       "2   0.118652    0.002011  -45.861914 -3.266982e-15\n",
       "3   0.114997    0.002988  -47.185119 -1.340874e-14\n",
       "4   0.119059    0.002948  -44.868792 -3.501075e-15\n",
       "5   0.116867    0.001004  -45.147568 -1.257220e-14\n",
       "6   0.114041    0.001952  -46.288295 -1.521264e-14\n",
       "7   0.135083    0.002550  -45.172328 -1.151534e-14\n",
       "8   0.138049    0.001985  -46.786405 -6.781827e-15\n",
       "9   0.114999    0.002002  -45.928819 -1.288203e-14\n",
       "10  0.115998    0.002002  -46.397327 -3.125837e-15\n",
       "11  0.118999    0.002002  -46.886086 -3.377144e-15\n",
       "12  0.115998    0.002025  -45.630374 -1.159107e-14\n",
       "13  0.117999    0.002002  -44.347424 -3.590582e-15\n",
       "14  0.115927    0.002006  -46.601493 -1.499231e-14\n",
       "15  0.114003    0.001997  -45.700112 -1.515756e-14\n",
       "16  0.120999    0.003000  -46.602367 -1.112289e-14\n",
       "17  0.143294    0.003001  -46.915529 -3.291080e-15\n",
       "18  0.117994    0.000997  -46.064070 -1.584607e-14\n",
       "19  0.113993    0.000999  -46.671981 -1.512313e-14\n",
       "20  0.114985    0.002996  -45.164022 -1.416266e-14\n",
       "21  0.115995    0.003007  -46.500286 -1.367382e-14\n",
       "22  0.115979    0.002002  -44.395437 -6.410032e-15\n",
       "23  0.110538    0.002446  -46.176961 -9.914550e-15\n",
       "24  0.113019    0.003002  -46.731901 -3.576812e-15\n",
       "25  0.114997    0.002005  -45.110336 -3.504518e-15\n",
       "26  0.143975    0.002023  -45.101131 -3.310874e-15\n",
       "27  0.131002    0.002016  -45.971212 -3.714514e-15\n",
       "28  0.114013    0.001992  -46.649510 -3.349603e-15\n",
       "29  0.116001    0.001997  -46.712493 -3.439109e-15"
      ]
     },
     "execution_count": 57,
     "metadata": {},
     "output_type": "execute_result"
    }
   ],
   "source": [
    "result_cv = pd.DataFrame(result_cv)\n",
    "result_cv # for all the splits"
   ]
  },
  {
   "cell_type": "code",
   "execution_count": 58,
   "metadata": {},
   "outputs": [
    {
     "data": {
      "image/png": "[encoded data removed]",
      "text/plain": [
       "<Figure size 432x288 with 1 Axes>"
      ]
     },
     "metadata": {
      "needs_background": "light"
     },
     "output_type": "display_data"
    }
   ],
   "source": [
    "# %load solutions/solution_3.py\n",
    "scores = result_cv[[\"train_score\", \"test_score\"]] * - 1\n",
    "scores.columns = scores.columns.str.replace(\"_\", \" \")\n",
    "sns.histplot(scores, bins=50)\n",
    "_ = plt.xlabel(\"Mean absolute error (k$)\")"
   ]
  },
  {
   "cell_type": "markdown",
   "metadata": {},
   "source": [
    "### Effect of the sample size on the variance analysis"
   ]
  },
  {
   "cell_type": "markdown",
   "metadata": {},
   "source": [
    "We are quite lucky. Our dataset count many samples."
   ]
  },
  {
   "cell_type": "code",
   "execution_count": 59,
   "metadata": {},
   "outputs": [
    {
     "data": {
      "text/plain": [
       "20640"
      ]
     },
     "execution_count": 59,
     "metadata": {},
     "output_type": "execute_result"
    }
   ],
   "source": [
    "y.size\n",
    "# more data -> better performance with lower variance"
   ]
  },
  {
   "cell_type": "markdown",
   "metadata": {},
   "source": [
    "Let's make an experiment and reduce the number of samples and repeat the previous experiment."
   ]
  },
  {
   "cell_type": "code",
   "execution_count": 60,
   "metadata": {},
   "outputs": [],
   "source": [
    "def make_cv_analysis(regressor, X, y):\n",
    "    cv = ShuffleSplit(n_splits=10, test_size=0.2)\n",
    "    result_cv = pd.DataFrame(\n",
    "        cross_validate(\n",
    "            regressor, X, y, cv=cv,\n",
    "            scoring=\"neg_mean_absolute_error\",\n",
    "            n_jobs=-1\n",
    "        )\n",
    "    )\n",
    "    return y.size, (result_cv[\"test_score\"] * -1).values"
   ]
  },
  {
   "cell_type": "markdown",
   "metadata": {},
   "source": [
    "<div class=\"alert alert-success\">\n",
    "    <b>EXERCISE</b>:\n",
    "     <ul>\n",
    "     <li>Make an experiment by subsampling the dataset and plotting the distribution of the generalization errors.</li>\n",
    "     <li>What can you conclude?</li>\n",
    "     </ul>\n",
    "</div>"
   ]
  },
  {
   "cell_type": "code",
   "execution_count": 61,
   "metadata": {},
   "outputs": [
    {
     "data": {
      "image/png": "[encoded data removed]",
      "text/plain": [
       "<Figure size 427.875x360 with 1 Axes>"
      ]
     },
     "metadata": {
      "needs_background": "light"
     },
     "output_type": "display_data"
    }
   ],
   "source": [
    "# %load solutions/solution_4.py\n",
    "sample_sizes = [100, 500, 1000, 5000, 10000, 15000, y.size]\n",
    "\n",
    "scores_sample_sizes = {}\n",
    "rng = np.random.RandomState(0)\n",
    "for n_samples in sample_sizes:\n",
    "    sample_idx = rng.choice(\n",
    "        np.arange(y.size), size=n_samples, replace=False\n",
    "    )\n",
    "    X_sampled, y_sampled = X.iloc[sample_idx], y[sample_idx]\n",
    "    size, score = make_cv_analysis(regressor, X_sampled, y_sampled)\n",
    "    scores_sample_sizes[size] = score\n",
    "\n",
    "scores_sample_sizes = pd.DataFrame(scores_sample_sizes)\n",
    "\n",
    "sns.displot(scores_sample_sizes, kind=\"kde\") #color is not good\n",
    "plt.xlim([10, 90])\n",
    "_ = plt.xlabel(\"Mean absolute error (k$)\")\n"
   ]
  },
  {
   "cell_type": "code",
   "execution_count": 62,
   "metadata": {},
   "outputs": [
    {
     "data": {
      "text/plain": [
       "[<matplotlib.lines.Line2D at 0x1f61dbe4820>,\n",
       " <matplotlib.lines.Line2D at 0x1f61dbe4880>,\n",
       " <matplotlib.lines.Line2D at 0x1f61dbe49a0>,\n",
       " <matplotlib.lines.Line2D at 0x1f61dbe4ac0>,\n",
       " <matplotlib.lines.Line2D at 0x1f61dbe4be0>,\n",
       " <matplotlib.lines.Line2D at 0x1f61dbe4d00>,\n",
       " <matplotlib.lines.Line2D at 0x1f61dbe4e20>,\n",
       " <matplotlib.lines.Line2D at 0x1f61dbe4f40>,\n",
       " <matplotlib.lines.Line2D at 0x1f61dbee0a0>,\n",
       " <matplotlib.lines.Line2D at 0x1f61dbee1c0>]"
      ]
     },
     "execution_count": 62,
     "metadata": {},
     "output_type": "execute_result"
    },
    {
     "data": {
      "image/png": "[encoded data removed]",
      "text/plain": [
       "<Figure size 432x288 with 1 Axes>"
      ]
     },
     "metadata": {
      "needs_background": "light"
     },
     "output_type": "display_data"
    }
   ],
   "source": [
    "# %load solutions/solution_4.py\n",
    "sample_sizes = [100, 500, 1000, 5000, 10000, 15000, y.size]\n",
    "\n",
    "# TODO\n",
    "score = []\n",
    "for datasize in sample_sizes:\n",
    "    X1 = X[:datasize]\n",
    "    y1 = y[:datasize]\n",
    "    y_size, result_cv1 = make_cv_analysis(regressor, X1, y1)\n",
    "    score.append(result_cv1)\n",
    "plt.figure()\n",
    "plt.plot(score)\n",
    "    "
   ]
  },
  {
   "cell_type": "markdown",
   "metadata": {},
   "source": [
    "We see that with a low number of samples, the variance is much larger. Indeed, for low number of sample, we cannot even trust our cross-validation and therefore cannot conclude anything about our regressor. Therefore, it is really important to make experiment with a large enough sample size to be sure about the conclusions which would be drawn."
   ]
  },
  {
   "cell_type": "markdown",
   "metadata": {},
   "source": [
    "### Comparing results with baseline and chance level"
   ]
  },
  {
   "cell_type": "markdown",
   "metadata": {},
   "source": [
    "Previously, we compare the generalization error by taking into account the target distribution. A good practice is to compare the generalization error with a dummy baseline and the chance level. In regression, we could use the `DummyRegressor` and predict the mean target without using the data. The chance level can be determined by permuting the labels and check the difference of result."
   ]
  },
  {
   "cell_type": "code",
   "execution_count": 63,
   "metadata": {},
   "outputs": [],
   "source": [
    "from sklearn.dummy import DummyRegressor\n",
    "\n",
    "dummy = DummyRegressor()\n",
    "result_dummy = cross_validate(\n",
    "    dummy, X, y, cv=cv, scoring=\"neg_mean_absolute_error\",\n",
    "    n_jobs=-1\n",
    ")"
   ]
  },
  {
   "cell_type": "code",
   "execution_count": 64,
   "metadata": {},
   "outputs": [],
   "source": [
    "from sklearn.model_selection import permutation_test_score\n",
    "\n",
    "score, permutation_score, pvalue = permutation_test_score(\n",
    "    regressor, X, y, cv=cv, scoring=\"neg_mean_absolute_error\",\n",
    "    n_jobs=-1, n_permutations=10,\n",
    ")"
   ]
  },
  {
   "cell_type": "markdown",
   "metadata": {},
   "source": [
    "We plot the generalization errors for each of the experiment. We see that even our regressor does not perform well, it is far above chances our a regressor that would predict the mean target."
   ]
  },
  {
   "cell_type": "code",
   "execution_count": 65,
   "metadata": {},
   "outputs": [],
   "source": [
    "final_result = pd.concat(\n",
    "    [\n",
    "        result_cv[\"test_score\"] * -1,\n",
    "        pd.Series(result_dummy[\"test_score\"]) * -1,\n",
    "        pd.Series(permutation_score) * -1,\n",
    "    ], axis=1\n",
    ").rename(columns={\n",
    "    \"test_score\": \"Cross-validation score\",\n",
    "    0: \"Dummy score\",\n",
    "    1: \"Permuted score\", # even wrose than dummy model\n",
    "})"
   ]
  },
  {
   "cell_type": "code",
   "execution_count": 66,
   "metadata": {},
   "outputs": [
    {
     "data": {
      "image/png": "[encoded data removed]",
      "text/plain": [
       "<Figure size 505.875x360 with 1 Axes>"
      ]
     },
     "metadata": {
      "needs_background": "light"
     },
     "output_type": "display_data"
    }
   ],
   "source": [
    "sns.displot(final_result, kind=\"kde\")\n",
    "_ = plt.xlabel(\"Mean absolute error (k$)\")"
   ]
  },
  {
   "cell_type": "markdown",
   "metadata": {},
   "source": [
    "## Choice of cross-validation"
   ]
  },
  {
   "cell_type": "markdown",
   "metadata": {},
   "source": [
    "<div class=\"alert alert-success\">\n",
    "    <b>EXERCISE</b>:\n",
    "     <ul>\n",
    "     <li>Is `ShuffleSplit` cross-validation always the best cross-validation to use?</li>\n",
    "     </ul>\n",
    "</div>"
   ]
  },
  {
   "cell_type": "markdown",
   "metadata": {},
   "source": [
    "Let's take an example of some financial quotes. These are the value of compagny  stocks with the time."
   ]
  },
  {
   "cell_type": "code",
   "execution_count": 70,
   "metadata": {},
   "outputs": [],
   "source": [
    "import pandas as pd\n",
    "import os\n",
    "from urllib.request import urlretrieve\n",
    "\n",
    "symbols = {'TOT': 'Total', 'XOM': 'Exxon', 'CVX': 'Chevron',\n",
    "           'COP': 'ConocoPhillips', 'VLO': 'Valero Energy'}\n",
    "\n",
    "quotes = pd.DataFrame()\n",
    "\n",
    "for symbol, name in symbols.items():\n",
    "    url = ('https://raw.githubusercontent.com/scikit-learn/examples-data/'\n",
    "           'master/financial-data/{}.csv')\n",
    "    filename = \"data/{}.csv\".format(symbol)\n",
    "    if not os.path.exists(filename):\n",
    "        urlretrieve(url.format(symbol), filename)\n",
    "    this_quote = pd.read_csv(filename)\n",
    "    quotes[name] = this_quote['open']\n",
    "quotes.index = pd.to_datetime(this_quote['date'])\n",
    "\n",
    "quotes.drop([\"Total\"], axis=1, inplace=True)"
   ]
  },
  {
   "cell_type": "code",
   "execution_count": 72,
   "metadata": {},
   "outputs": [
    {
     "data": {
      "image/png": "[encoded data removed]",
      "text/plain": [
       "<Figure size 720x432 with 1 Axes>"
      ]
     },
     "metadata": {
      "needs_background": "light"
     },
     "output_type": "display_data"
    }
   ],
   "source": [
    "_, ax = plt.subplots(figsize=(10, 6))\n",
    "_ = quotes.plot(ax=ax)"
   ]
  },
  {
   "cell_type": "code",
   "execution_count": 73,
   "metadata": {},
   "outputs": [],
   "source": [
    "from sklearn.ensemble import GradientBoostingRegressor\n",
    "\n",
    "X, y = quotes.drop(columns=[\"Chevron\"]), quotes[\"Chevron\"]\n",
    "regressor = GradientBoostingRegressor()"
   ]
  },
  {
   "cell_type": "code",
   "execution_count": 74,
   "metadata": {},
   "outputs": [
    {
     "name": "stdout",
     "output_type": "stream",
     "text": [
      "Mean R2: 0.97\n"
     ]
    }
   ],
   "source": [
    "cv = ShuffleSplit(n_splits=30)\n",
    "result_cv = pd.DataFrame(\n",
    "    cross_validate(\n",
    "        regressor, X, y, cv=cv, # datas are correlated, should not use this cv\n",
    "        # https://scikit-learn.org/stable/auto_examples/model_selection/plot_cv_indices.html\n",
    "\n",
    "    )\n",
    ")\n",
    "print(f'Mean R2: {result_cv[\"test_score\"].mean():.2f}')"
   ]
  },
  {
   "cell_type": "markdown",
   "metadata": {},
   "source": [
    "<div class=\"alert alert-success\">\n",
    "    <b>QUESTION</b>:\n",
    "     It seems that we have the perfect regressor. Is this normal?\n",
    "</div>"
   ]
  },
  {
   "cell_type": "code",
   "execution_count": 76,
   "metadata": {},
   "outputs": [
    {
     "name": "stdout",
     "output_type": "stream",
     "text": [
      "Mean R2: -3.68\n"
     ]
    }
   ],
   "source": [
    "# %load solutions/solution_5.py\n",
    "from sklearn.model_selection import TimeSeriesSplit\n",
    "\n",
    "cv = TimeSeriesSplit(n_splits=quotes.index.to_period(\"Q\").nunique())\n",
    "result_cv = pd.DataFrame(\n",
    "    cross_validate(\n",
    "        regressor, X, y, cv=cv,\n",
    "        groups=quotes.index.to_period(\"Q\"),\n",
    "    )\n",
    ")\n",
    "print(f'Mean R2: {result_cv[\"test_score\"].mean():.2f}')\n",
    "# 0 for dummy."
   ]
  },
  {
   "cell_type": "markdown",
   "metadata": {},
   "source": [
    "Let's check the different type of cross-validation that are available in scikit-learn:\n",
    "\n",
    "https://scikit-learn.org/stable/auto_examples/model_selection/plot_cv_indices.html#sphx-glr-auto-examples-model-selection-plot-cv-indices-py"
   ]
  },
  {
   "cell_type": "code",
   "execution_count": null,
   "metadata": {},
   "outputs": [],
   "source": []
  }
 ],
 "metadata": {
  "kernelspec": {
   "display_name": "ima",
   "language": "python",
   "name": "python3"
  },
  "language_info": {
   "codemirror_mode": {
    "name": "ipython",
    "version": 3
   },
   "file_extension": ".py",
   "mimetype": "text/x-python",
   "name": "python",
   "nbconvert_exporter": "python",
   "pygments_lexer": "ipython3",
   "version": "3.9.12"
  },
  "vscode": {
   "interpreter": {
    "hash": "ac56bd6234faaedadba2d2dcf914858e2148c6cfbf00041937062ee96b89120b"
   }
  }
 },
 "nbformat": 4,
 "nbformat_minor": 4
}
